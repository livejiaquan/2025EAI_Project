{
  "cells": [
    {
      "cell_type": "markdown",
      "metadata": {},
      "source": [
        "# Lab 1 Task 1 - GPU Version\n",
        "## 使用 PyTorch 和 GPU 進行 MNIST 手寫數字識別\n",
        "\n",
        "這個版本使用 PyTorch 框架和 GPU 加速訓練，相比純 NumPy 版本有以下優勢：\n",
        "- 🚀 **GPU 加速**：使用 CUDA 進行快速運算\n",
        "- 🎯 **更高準確率**：更深的網路架構\n",
        "- 📊 **更好的監控**：實時顯示 GPU 使用情況\n",
        "- 🔧 **現代化**：使用 PyTorch 生態系統\n"
      ]
    },
    {
      "cell_type": "code",
      "execution_count": 1,
      "metadata": {},
      "outputs": [
        {
          "name": "stdout",
          "output_type": "stream",
          "text": [
            "✅ 套件導入完成\n"
          ]
        }
      ],
      "source": [
        "# 導入必要的套件\n",
        "import torch\n",
        "import torch.nn as nn\n",
        "import torch.optim as optim\n",
        "import torch.nn.functional as F\n",
        "from torch.utils.data import DataLoader, random_split\n",
        "import torchvision\n",
        "import torchvision.transforms as transforms\n",
        "import matplotlib.pyplot as plt\n",
        "import numpy as np\n",
        "from tqdm import tqdm\n",
        "import os\n",
        "\n",
        "print(\"✅ 套件導入完成\")\n"
      ]
    },
    {
      "cell_type": "code",
      "execution_count": 2,
      "metadata": {},
      "outputs": [
        {
          "name": "stdout",
          "output_type": "stream",
          "text": [
            "🔍 GPU 環境檢查\n",
            "========================================\n",
            "CUDA 可用: ✅ 是\n",
            "GPU 數量: 1\n",
            "當前 GPU: Tesla V100-SXM2-32GB\n",
            "GPU 記憶體: 31.7 GB\n",
            "\n",
            "🎯 使用設備: cuda\n"
          ]
        }
      ],
      "source": [
        "# GPU 環境檢查\n",
        "print(\"🔍 GPU 環境檢查\")\n",
        "print(\"=\" * 40)\n",
        "\n",
        "# 檢查 CUDA 可用性\n",
        "cuda_available = torch.cuda.is_available()\n",
        "print(f\"CUDA 可用: {'✅ 是' if cuda_available else '❌ 否'}\")\n",
        "\n",
        "if cuda_available:\n",
        "    print(f\"GPU 數量: {torch.cuda.device_count()}\")\n",
        "    print(f\"當前 GPU: {torch.cuda.get_device_name(0)}\")\n",
        "    print(f\"GPU 記憶體: {torch.cuda.get_device_properties(0).total_memory / 1024**3:.1f} GB\")\n",
        "    device = torch.device('cuda')\n",
        "else:\n",
        "    print(\"⚠️  將使用 CPU 訓練\")\n",
        "    device = torch.device('cpu')\n",
        "\n",
        "print(f\"\\n🎯 使用設備: {device}\")\n"
      ]
    },
    {
      "cell_type": "code",
      "execution_count": 3,
      "metadata": {},
      "outputs": [
        {
          "name": "stdout",
          "output_type": "stream",
          "text": [
            "模型已創建並移到 cuda\n",
            "模型參數數量: 567,434\n",
            "\n",
            "模型結構:\n",
            "MLP(\n",
            "  (network): Sequential(\n",
            "    (0): Linear(in_features=784, out_features=512, bias=True)\n",
            "    (1): ReLU()\n",
            "    (2): Linear(in_features=512, out_features=256, bias=True)\n",
            "    (3): ReLU()\n",
            "    (4): Linear(in_features=256, out_features=128, bias=True)\n",
            "    (5): ReLU()\n",
            "    (6): Linear(in_features=128, out_features=10, bias=True)\n",
            "  )\n",
            ")\n"
          ]
        }
      ],
      "source": [
        "# 定義 MLP 模型 (GPU 版本)\n",
        "class MLP(nn.Module):\n",
        "    def __init__(self, input_size=784, hidden_sizes=[512, 256, 128], num_classes=10):\n",
        "        super(MLP, self).__init__()\n",
        "        \n",
        "        # 構建層\n",
        "        layers = []\n",
        "        prev_size = input_size\n",
        "        \n",
        "        for hidden_size in hidden_sizes:\n",
        "            layers.append(nn.Linear(prev_size, hidden_size))\n",
        "            layers.append(nn.ReLU())\n",
        "            prev_size = hidden_size\n",
        "        \n",
        "        # 輸出層\n",
        "        layers.append(nn.Linear(prev_size, num_classes))\n",
        "        \n",
        "        # 組合所有層\n",
        "        self.network = nn.Sequential(*layers)\n",
        "        \n",
        "    def forward(self, x):\n",
        "        return self.network(x)\n",
        "\n",
        "# 創建模型並移到 GPU\n",
        "model = MLP().to(device)\n",
        "print(f\"模型已創建並移到 {device}\")\n",
        "print(f\"模型參數數量: {sum(p.numel() for p in model.parameters()):,}\")\n",
        "\n",
        "# 顯示模型結構\n",
        "print(\"\\n模型結構:\")\n",
        "print(model)\n"
      ]
    },
    {
      "cell_type": "code",
      "execution_count": 4,
      "metadata": {},
      "outputs": [
        {
          "name": "stdout",
          "output_type": "stream",
          "text": [
            "Downloading http://yann.lecun.com/exdb/mnist/train-images-idx3-ubyte.gz\n",
            "Failed to download (trying next):\n",
            "HTTP Error 404: Not Found\n",
            "\n",
            "Downloading https://ossci-datasets.s3.amazonaws.com/mnist/train-images-idx3-ubyte.gz\n",
            "Downloading https://ossci-datasets.s3.amazonaws.com/mnist/train-images-idx3-ubyte.gz to ./data/MNIST/raw/train-images-idx3-ubyte.gz\n"
          ]
        },
        {
          "name": "stderr",
          "output_type": "stream",
          "text": [
            "100%|██████████| 9.91M/9.91M [00:01<00:00, 6.32MB/s]\n"
          ]
        },
        {
          "name": "stdout",
          "output_type": "stream",
          "text": [
            "Extracting ./data/MNIST/raw/train-images-idx3-ubyte.gz to ./data/MNIST/raw\n",
            "\n",
            "Downloading http://yann.lecun.com/exdb/mnist/train-labels-idx1-ubyte.gz\n",
            "Failed to download (trying next):\n",
            "HTTP Error 404: Not Found\n",
            "\n",
            "Downloading https://ossci-datasets.s3.amazonaws.com/mnist/train-labels-idx1-ubyte.gz\n",
            "Downloading https://ossci-datasets.s3.amazonaws.com/mnist/train-labels-idx1-ubyte.gz to ./data/MNIST/raw/train-labels-idx1-ubyte.gz\n"
          ]
        },
        {
          "name": "stderr",
          "output_type": "stream",
          "text": [
            "100%|██████████| 28.9k/28.9k [00:00<00:00, 152kB/s]\n"
          ]
        },
        {
          "name": "stdout",
          "output_type": "stream",
          "text": [
            "Extracting ./data/MNIST/raw/train-labels-idx1-ubyte.gz to ./data/MNIST/raw\n",
            "\n",
            "Downloading http://yann.lecun.com/exdb/mnist/t10k-images-idx3-ubyte.gz\n",
            "Failed to download (trying next):\n",
            "HTTP Error 404: Not Found\n",
            "\n",
            "Downloading https://ossci-datasets.s3.amazonaws.com/mnist/t10k-images-idx3-ubyte.gz\n",
            "Downloading https://ossci-datasets.s3.amazonaws.com/mnist/t10k-images-idx3-ubyte.gz to ./data/MNIST/raw/t10k-images-idx3-ubyte.gz\n"
          ]
        },
        {
          "name": "stderr",
          "output_type": "stream",
          "text": [
            "100%|██████████| 1.65M/1.65M [00:01<00:00, 1.41MB/s]\n"
          ]
        },
        {
          "name": "stdout",
          "output_type": "stream",
          "text": [
            "Extracting ./data/MNIST/raw/t10k-images-idx3-ubyte.gz to ./data/MNIST/raw\n",
            "\n",
            "Downloading http://yann.lecun.com/exdb/mnist/t10k-labels-idx1-ubyte.gz\n",
            "Failed to download (trying next):\n",
            "HTTP Error 404: Not Found\n",
            "\n",
            "Downloading https://ossci-datasets.s3.amazonaws.com/mnist/t10k-labels-idx1-ubyte.gz\n",
            "Downloading https://ossci-datasets.s3.amazonaws.com/mnist/t10k-labels-idx1-ubyte.gz to ./data/MNIST/raw/t10k-labels-idx1-ubyte.gz\n"
          ]
        },
        {
          "name": "stderr",
          "output_type": "stream",
          "text": [
            "100%|██████████| 4.54k/4.54k [00:00<00:00, 3.70MB/s]"
          ]
        },
        {
          "name": "stdout",
          "output_type": "stream",
          "text": [
            "Extracting ./data/MNIST/raw/t10k-labels-idx1-ubyte.gz to ./data/MNIST/raw\n",
            "\n",
            "訓練集: 54000 樣本\n",
            "驗證集: 6000 樣本\n",
            "測試集: 10000 樣本\n",
            "批次大小: 64\n"
          ]
        },
        {
          "name": "stderr",
          "output_type": "stream",
          "text": [
            "\n"
          ]
        }
      ],
      "source": [
        "# 數據預處理和載入\n",
        "transform = transforms.Compose([\n",
        "    transforms.ToTensor(),\n",
        "    transforms.Normalize((0.5,), (0.5,))  # 標準化到 [-1, 1]\n",
        "])\n",
        "\n",
        "# 載入 MNIST 數據集\n",
        "train_dataset = torchvision.datasets.MNIST(\n",
        "    root='./data', \n",
        "    train=True, \n",
        "    download=True, \n",
        "    transform=transform\n",
        ")\n",
        "\n",
        "test_dataset = torchvision.datasets.MNIST(\n",
        "    root='./data', \n",
        "    train=False, \n",
        "    download=True, \n",
        "    transform=transform\n",
        ")\n",
        "\n",
        "# 分割訓練集和驗證集\n",
        "train_size = int(0.9 * len(train_dataset))\n",
        "val_size = len(train_dataset) - train_size\n",
        "train_dataset, val_dataset = random_split(train_dataset, [train_size, val_size])\n",
        "\n",
        "# 創建 DataLoader\n",
        "batch_size = 64\n",
        "train_loader = DataLoader(train_dataset, batch_size=batch_size, shuffle=True, num_workers=4)\n",
        "val_loader = DataLoader(val_dataset, batch_size=batch_size, shuffle=False, num_workers=4)\n",
        "test_loader = DataLoader(test_dataset, batch_size=batch_size, shuffle=False, num_workers=4)\n",
        "\n",
        "print(f\"訓練集: {len(train_dataset)} 樣本\")\n",
        "print(f\"驗證集: {len(val_dataset)} 樣本\")\n",
        "print(f\"測試集: {len(test_dataset)} 樣本\")\n",
        "print(f\"批次大小: {batch_size}\")\n"
      ]
    },
    {
      "cell_type": "code",
      "execution_count": 5,
      "metadata": {},
      "outputs": [
        {
          "name": "stdout",
          "output_type": "stream",
          "text": [
            "🚀 開始 GPU 訓練...\n",
            "優化器: Adam\n",
            "學習率: 0.001\n",
            "訓練輪數: 20\n",
            "損失函數: CrossEntropyLoss\n",
            "使用設備: cuda\n"
          ]
        }
      ],
      "source": [
        "# 訓練設定\n",
        "criterion = nn.CrossEntropyLoss()\n",
        "optimizer = optim.Adam(model.parameters(), lr=0.001)\n",
        "scheduler = optim.lr_scheduler.StepLR(optimizer, step_size=10, gamma=0.1)\n",
        "\n",
        "epochs = 20\n",
        "train_losses = []\n",
        "train_accuracies = []\n",
        "val_losses = []\n",
        "val_accuracies = []\n",
        "\n",
        "print(\"🚀 開始 GPU 訓練...\")\n",
        "print(f\"優化器: Adam\")\n",
        "print(f\"學習率: 0.001\")\n",
        "print(f\"訓練輪數: {epochs}\")\n",
        "print(f\"損失函數: CrossEntropyLoss\")\n",
        "print(f\"使用設備: {device}\")\n"
      ]
    },
    {
      "cell_type": "code",
      "execution_count": 6,
      "metadata": {},
      "outputs": [
        {
          "name": "stdout",
          "output_type": "stream",
          "text": [
            "✅ 訓練函數已定義\n"
          ]
        }
      ],
      "source": [
        "# 訓練和驗證函數\n",
        "def train_epoch(model, train_loader, criterion, optimizer, device):\n",
        "    model.train()\n",
        "    total_loss = 0\n",
        "    correct = 0\n",
        "    total = 0\n",
        "    \n",
        "    for batch_idx, (data, target) in enumerate(tqdm(train_loader, desc=\"訓練中\")):\n",
        "        data, target = data.to(device), target.to(device)\n",
        "        data = data.view(data.size(0), -1)  # 展平為 784 維\n",
        "        \n",
        "        optimizer.zero_grad()\n",
        "        output = model(data)\n",
        "        loss = criterion(output, target)\n",
        "        loss.backward()\n",
        "        optimizer.step()\n",
        "        \n",
        "        total_loss += loss.item()\n",
        "        pred = output.argmax(dim=1, keepdim=True)\n",
        "        correct += pred.eq(target.view_as(pred)).sum().item()\n",
        "        total += target.size(0)\n",
        "    \n",
        "    avg_loss = total_loss / len(train_loader)\n",
        "    accuracy = 100. * correct / total\n",
        "    return avg_loss, accuracy\n",
        "\n",
        "def validate(model, val_loader, criterion, device):\n",
        "    model.eval()\n",
        "    total_loss = 0\n",
        "    correct = 0\n",
        "    total = 0\n",
        "    \n",
        "    with torch.no_grad():\n",
        "        for data, target in tqdm(val_loader, desc=\"驗證中\"):\n",
        "            data, target = data.to(device), target.to(device)\n",
        "            data = data.view(data.size(0), -1)\n",
        "            \n",
        "            output = model(data)\n",
        "            loss = criterion(output, target)\n",
        "            \n",
        "            total_loss += loss.item()\n",
        "            pred = output.argmax(dim=1, keepdim=True)\n",
        "            correct += pred.eq(target.view_as(pred)).sum().item()\n",
        "            total += target.size(0)\n",
        "    \n",
        "    avg_loss = total_loss / len(val_loader)\n",
        "    accuracy = 100. * correct / total\n",
        "    return avg_loss, accuracy\n",
        "\n",
        "print(\"✅ 訓練函數已定義\")\n"
      ]
    },
    {
      "cell_type": "code",
      "execution_count": 7,
      "metadata": {},
      "outputs": [
        {
          "name": "stdout",
          "output_type": "stream",
          "text": [
            "🔥 開始訓練...\n",
            "==================================================\n"
          ]
        },
        {
          "name": "stderr",
          "output_type": "stream",
          "text": [
            "訓練中: 100%|██████████| 844/844 [00:07<00:00, 108.97it/s]\n",
            "驗證中: 100%|██████████| 94/94 [00:01<00:00, 88.82it/s] \n"
          ]
        },
        {
          "name": "stdout",
          "output_type": "stream",
          "text": [
            "Epoch  1/20: \n",
            "  訓練 - Loss: 0.3405, Acc: 89.24%\n",
            "  驗證 - Loss: 0.2444, Acc: 91.93%\n",
            "  學習率: 0.001000\n",
            "--------------------------------------------------\n"
          ]
        },
        {
          "name": "stderr",
          "output_type": "stream",
          "text": [
            "訓練中: 100%|██████████| 844/844 [00:06<00:00, 128.73it/s]\n",
            "驗證中: 100%|██████████| 94/94 [00:01<00:00, 84.19it/s] \n"
          ]
        },
        {
          "name": "stdout",
          "output_type": "stream",
          "text": [
            "Epoch  2/20: \n",
            "  訓練 - Loss: 0.1515, Acc: 95.33%\n",
            "  驗證 - Loss: 0.1214, Acc: 96.13%\n",
            "  學習率: 0.001000\n",
            "--------------------------------------------------\n"
          ]
        },
        {
          "name": "stderr",
          "output_type": "stream",
          "text": [
            "訓練中: 100%|██████████| 844/844 [00:06<00:00, 130.22it/s]\n",
            "驗證中: 100%|██████████| 94/94 [00:00<00:00, 105.56it/s]\n"
          ]
        },
        {
          "name": "stdout",
          "output_type": "stream",
          "text": [
            "Epoch  3/20: \n",
            "  訓練 - Loss: 0.1151, Acc: 96.35%\n",
            "  驗證 - Loss: 0.1176, Acc: 96.57%\n",
            "  學習率: 0.001000\n",
            "--------------------------------------------------\n"
          ]
        },
        {
          "name": "stderr",
          "output_type": "stream",
          "text": [
            "訓練中: 100%|██████████| 844/844 [00:06<00:00, 126.81it/s]\n",
            "驗證中: 100%|██████████| 94/94 [00:00<00:00, 94.59it/s] \n"
          ]
        },
        {
          "name": "stdout",
          "output_type": "stream",
          "text": [
            "Epoch  4/20: \n",
            "  訓練 - Loss: 0.0944, Acc: 97.04%\n",
            "  驗證 - Loss: 0.1203, Acc: 96.28%\n",
            "  學習率: 0.001000\n",
            "--------------------------------------------------\n"
          ]
        },
        {
          "name": "stderr",
          "output_type": "stream",
          "text": [
            "訓練中: 100%|██████████| 844/844 [00:06<00:00, 124.56it/s]\n",
            "驗證中: 100%|██████████| 94/94 [00:01<00:00, 87.72it/s] \n"
          ]
        },
        {
          "name": "stdout",
          "output_type": "stream",
          "text": [
            "Epoch  5/20: \n",
            "  訓練 - Loss: 0.0792, Acc: 97.55%\n",
            "  驗證 - Loss: 0.0998, Acc: 97.20%\n",
            "  學習率: 0.001000\n",
            "--------------------------------------------------\n"
          ]
        },
        {
          "name": "stderr",
          "output_type": "stream",
          "text": [
            "訓練中: 100%|██████████| 844/844 [00:06<00:00, 127.87it/s]\n",
            "驗證中: 100%|██████████| 94/94 [00:00<00:00, 96.76it/s] \n"
          ]
        },
        {
          "name": "stdout",
          "output_type": "stream",
          "text": [
            "Epoch  6/20: \n",
            "  訓練 - Loss: 0.0696, Acc: 97.78%\n",
            "  驗證 - Loss: 0.1219, Acc: 96.30%\n",
            "  學習率: 0.001000\n",
            "--------------------------------------------------\n"
          ]
        },
        {
          "name": "stderr",
          "output_type": "stream",
          "text": [
            "訓練中: 100%|██████████| 844/844 [00:06<00:00, 126.00it/s]\n",
            "驗證中: 100%|██████████| 94/94 [00:01<00:00, 90.32it/s] \n"
          ]
        },
        {
          "name": "stdout",
          "output_type": "stream",
          "text": [
            "Epoch  7/20: \n",
            "  訓練 - Loss: 0.0617, Acc: 97.98%\n",
            "  驗證 - Loss: 0.1354, Acc: 96.25%\n",
            "  學習率: 0.001000\n",
            "--------------------------------------------------\n"
          ]
        },
        {
          "name": "stderr",
          "output_type": "stream",
          "text": [
            "訓練中: 100%|██████████| 844/844 [00:06<00:00, 132.01it/s]\n",
            "驗證中: 100%|██████████| 94/94 [00:00<00:00, 99.49it/s] \n"
          ]
        },
        {
          "name": "stdout",
          "output_type": "stream",
          "text": [
            "Epoch  8/20: \n",
            "  訓練 - Loss: 0.0560, Acc: 98.21%\n",
            "  驗證 - Loss: 0.1207, Acc: 96.82%\n",
            "  學習率: 0.001000\n",
            "--------------------------------------------------\n"
          ]
        },
        {
          "name": "stderr",
          "output_type": "stream",
          "text": [
            "訓練中: 100%|██████████| 844/844 [00:06<00:00, 134.26it/s]\n",
            "驗證中: 100%|██████████| 94/94 [00:01<00:00, 88.12it/s] \n"
          ]
        },
        {
          "name": "stdout",
          "output_type": "stream",
          "text": [
            "Epoch  9/20: \n",
            "  訓練 - Loss: 0.0490, Acc: 98.42%\n",
            "  驗證 - Loss: 0.0991, Acc: 97.23%\n",
            "  學習率: 0.001000\n",
            "--------------------------------------------------\n"
          ]
        },
        {
          "name": "stderr",
          "output_type": "stream",
          "text": [
            "訓練中: 100%|██████████| 844/844 [00:06<00:00, 133.16it/s]\n",
            "驗證中: 100%|██████████| 94/94 [00:01<00:00, 85.11it/s] \n"
          ]
        },
        {
          "name": "stdout",
          "output_type": "stream",
          "text": [
            "Epoch 10/20: \n",
            "  訓練 - Loss: 0.0473, Acc: 98.47%\n",
            "  驗證 - Loss: 0.1031, Acc: 97.42%\n",
            "  學習率: 0.000100\n",
            "--------------------------------------------------\n"
          ]
        },
        {
          "name": "stderr",
          "output_type": "stream",
          "text": [
            "訓練中: 100%|██████████| 844/844 [00:06<00:00, 133.15it/s]\n",
            "驗證中: 100%|██████████| 94/94 [00:01<00:00, 81.27it/s] \n"
          ]
        },
        {
          "name": "stdout",
          "output_type": "stream",
          "text": [
            "Epoch 11/20: \n",
            "  訓練 - Loss: 0.0158, Acc: 99.53%\n",
            "  驗證 - Loss: 0.0726, Acc: 98.15%\n",
            "  學習率: 0.000100\n",
            "--------------------------------------------------\n"
          ]
        },
        {
          "name": "stderr",
          "output_type": "stream",
          "text": [
            "訓練中: 100%|██████████| 844/844 [00:06<00:00, 122.93it/s]\n",
            "驗證中: 100%|██████████| 94/94 [00:01<00:00, 85.43it/s] \n"
          ]
        },
        {
          "name": "stdout",
          "output_type": "stream",
          "text": [
            "Epoch 12/20: \n",
            "  訓練 - Loss: 0.0099, Acc: 99.74%\n",
            "  驗證 - Loss: 0.0730, Acc: 98.30%\n",
            "  學習率: 0.000100\n",
            "--------------------------------------------------\n"
          ]
        },
        {
          "name": "stderr",
          "output_type": "stream",
          "text": [
            "訓練中: 100%|██████████| 844/844 [00:06<00:00, 129.23it/s]\n",
            "驗證中: 100%|██████████| 94/94 [00:00<00:00, 96.81it/s] \n"
          ]
        },
        {
          "name": "stdout",
          "output_type": "stream",
          "text": [
            "Epoch 13/20: \n",
            "  訓練 - Loss: 0.0078, Acc: 99.80%\n",
            "  驗證 - Loss: 0.0770, Acc: 98.15%\n",
            "  學習率: 0.000100\n",
            "--------------------------------------------------\n"
          ]
        },
        {
          "name": "stderr",
          "output_type": "stream",
          "text": [
            "訓練中: 100%|██████████| 844/844 [00:06<00:00, 130.05it/s]\n",
            "驗證中: 100%|██████████| 94/94 [00:01<00:00, 92.04it/s] \n"
          ]
        },
        {
          "name": "stdout",
          "output_type": "stream",
          "text": [
            "Epoch 14/20: \n",
            "  訓練 - Loss: 0.0065, Acc: 99.84%\n",
            "  驗證 - Loss: 0.0766, Acc: 98.23%\n",
            "  學習率: 0.000100\n",
            "--------------------------------------------------\n"
          ]
        },
        {
          "name": "stderr",
          "output_type": "stream",
          "text": [
            "訓練中: 100%|██████████| 844/844 [00:07<00:00, 120.11it/s]\n",
            "驗證中: 100%|██████████| 94/94 [00:01<00:00, 84.70it/s] \n"
          ]
        },
        {
          "name": "stdout",
          "output_type": "stream",
          "text": [
            "Epoch 15/20: \n",
            "  訓練 - Loss: 0.0053, Acc: 99.88%\n",
            "  驗證 - Loss: 0.0809, Acc: 98.22%\n",
            "  學習率: 0.000100\n",
            "--------------------------------------------------\n"
          ]
        },
        {
          "name": "stderr",
          "output_type": "stream",
          "text": [
            "訓練中: 100%|██████████| 844/844 [00:06<00:00, 127.98it/s]\n",
            "驗證中: 100%|██████████| 94/94 [00:00<00:00, 96.89it/s] \n"
          ]
        },
        {
          "name": "stdout",
          "output_type": "stream",
          "text": [
            "Epoch 16/20: \n",
            "  訓練 - Loss: 0.0042, Acc: 99.91%\n",
            "  驗證 - Loss: 0.0906, Acc: 98.13%\n",
            "  學習率: 0.000100\n",
            "--------------------------------------------------\n"
          ]
        },
        {
          "name": "stderr",
          "output_type": "stream",
          "text": [
            "訓練中: 100%|██████████| 844/844 [00:06<00:00, 124.09it/s]\n",
            "驗證中: 100%|██████████| 94/94 [00:00<00:00, 94.14it/s] \n"
          ]
        },
        {
          "name": "stdout",
          "output_type": "stream",
          "text": [
            "Epoch 17/20: \n",
            "  訓練 - Loss: 0.0035, Acc: 99.91%\n",
            "  驗證 - Loss: 0.0869, Acc: 98.35%\n",
            "  學習率: 0.000100\n",
            "--------------------------------------------------\n"
          ]
        },
        {
          "name": "stderr",
          "output_type": "stream",
          "text": [
            "訓練中: 100%|██████████| 844/844 [00:06<00:00, 131.96it/s]\n",
            "驗證中: 100%|██████████| 94/94 [00:01<00:00, 88.98it/s] \n"
          ]
        },
        {
          "name": "stdout",
          "output_type": "stream",
          "text": [
            "Epoch 18/20: \n",
            "  訓練 - Loss: 0.0028, Acc: 99.93%\n",
            "  驗證 - Loss: 0.0953, Acc: 98.15%\n",
            "  學習率: 0.000100\n",
            "--------------------------------------------------\n"
          ]
        },
        {
          "name": "stderr",
          "output_type": "stream",
          "text": [
            "訓練中: 100%|██████████| 844/844 [00:06<00:00, 128.27it/s]\n",
            "驗證中: 100%|██████████| 94/94 [00:00<00:00, 94.70it/s] \n"
          ]
        },
        {
          "name": "stdout",
          "output_type": "stream",
          "text": [
            "Epoch 19/20: \n",
            "  訓練 - Loss: 0.0022, Acc: 99.95%\n",
            "  驗證 - Loss: 0.0998, Acc: 98.10%\n",
            "  學習率: 0.000100\n",
            "--------------------------------------------------\n"
          ]
        },
        {
          "name": "stderr",
          "output_type": "stream",
          "text": [
            "訓練中: 100%|██████████| 844/844 [00:06<00:00, 126.23it/s]\n",
            "驗證中: 100%|██████████| 94/94 [00:00<00:00, 99.01it/s] "
          ]
        },
        {
          "name": "stdout",
          "output_type": "stream",
          "text": [
            "Epoch 20/20: \n",
            "  訓練 - Loss: 0.0017, Acc: 99.97%\n",
            "  驗證 - Loss: 0.0997, Acc: 98.23%\n",
            "  學習率: 0.000010\n",
            "--------------------------------------------------\n",
            "✅ 訓練完成！\n"
          ]
        },
        {
          "name": "stderr",
          "output_type": "stream",
          "text": [
            "\n"
          ]
        }
      ],
      "source": [
        "# 執行訓練\n",
        "print(\"🔥 開始訓練...\")\n",
        "print(\"=\" * 50)\n",
        "\n",
        "for epoch in range(epochs):\n",
        "    # 訓練\n",
        "    train_loss, train_acc = train_epoch(model, train_loader, criterion, optimizer, device)\n",
        "    \n",
        "    # 驗證\n",
        "    val_loss, val_acc = validate(model, val_loader, criterion, device)\n",
        "    \n",
        "    # 更新學習率\n",
        "    scheduler.step()\n",
        "    \n",
        "    # 記錄結果\n",
        "    train_losses.append(train_loss)\n",
        "    train_accuracies.append(train_acc)\n",
        "    val_losses.append(val_loss)\n",
        "    val_accuracies.append(val_acc)\n",
        "    \n",
        "    # 顯示進度\n",
        "    print(f\"Epoch {epoch+1:2d}/{epochs}: \")\n",
        "    print(f\"  訓練 - Loss: {train_loss:.4f}, Acc: {train_acc:.2f}%\")\n",
        "    print(f\"  驗證 - Loss: {val_loss:.4f}, Acc: {val_acc:.2f}%\")\n",
        "    print(f\"  學習率: {optimizer.param_groups[0]['lr']:.6f}\")\n",
        "    print(\"-\" * 50)\n",
        "\n",
        "print(\"✅ 訓練完成！\")\n"
      ]
    },
    {
      "cell_type": "code",
      "execution_count": 8,
      "metadata": {},
      "outputs": [
        {
          "name": "stdout",
          "output_type": "stream",
          "text": [
            "🧪 測試模型...\n"
          ]
        },
        {
          "name": "stderr",
          "output_type": "stream",
          "text": [
            "驗證中: 100%|██████████| 157/157 [00:01<00:00, 97.74it/s] "
          ]
        },
        {
          "name": "stdout",
          "output_type": "stream",
          "text": [
            "測試結果:\n",
            "  測試 Loss: 0.0842\n",
            "  測試 Accuracy: 98.33%\n"
          ]
        },
        {
          "name": "stderr",
          "output_type": "stream",
          "text": [
            "\n"
          ]
        }
      ],
      "source": [
        "# 測試模型\n",
        "print(\"🧪 測試模型...\")\n",
        "test_loss, test_acc = validate(model, test_loader, criterion, device)\n",
        "print(f\"測試結果:\")\n",
        "print(f\"  測試 Loss: {test_loss:.4f}\")\n",
        "print(f\"  測試 Accuracy: {test_acc:.2f}%\")\n"
      ]
    },
    {
      "cell_type": "code",
      "execution_count": 9,
      "metadata": {},
      "outputs": [
        {
          "data": {
            "image/png": "[encoded data removed]",
            "text/plain": [
              "<Figure size 1500x500 with 2 Axes>"
            ]
          },
          "metadata": {},
          "output_type": "display_data"
        },
        {
          "name": "stdout",
          "output_type": "stream",
          "text": [
            "\n",
            "🎯 最終結果:\n",
            "  最佳驗證準確率: 98.35%\n",
            "  測試準確率: 98.33%\n",
            "  使用設備: cuda\n"
          ]
        }
      ],
      "source": [
        "# 繪製訓練曲線\n",
        "plt.figure(figsize=(15, 5))\n",
        "\n",
        "# Loss 曲線\n",
        "plt.subplot(1, 2, 1)\n",
        "plt.plot(train_losses, label='Training Loss', color='blue')\n",
        "plt.plot(val_losses, label='Validation Loss', color='red')\n",
        "plt.xlabel('Epoch')\n",
        "plt.ylabel('Loss')\n",
        "plt.title('Training and Validation Loss')\n",
        "plt.legend()\n",
        "plt.grid(True)\n",
        "\n",
        "# Accuracy 曲線\n",
        "plt.subplot(1, 2, 2)\n",
        "plt.plot(train_accuracies, label='Training Accuracy', color='blue')\n",
        "plt.plot(val_accuracies, label='Validation Accuracy', color='red')\n",
        "plt.xlabel('Epoch')\n",
        "plt.ylabel('Accuracy (%)')\n",
        "plt.title('Training and Validation Accuracy')\n",
        "plt.legend()\n",
        "plt.grid(True)\n",
        "\n",
        "plt.tight_layout()\n",
        "plt.show()\n",
        "\n",
        "print(f\"\\n🎯 最終結果:\")\n",
        "print(f\"  最佳驗證準確率: {max(val_accuracies):.2f}%\")\n",
        "print(f\"  測試準確率: {test_acc:.2f}%\")\n",
        "print(f\"  使用設備: {device}\")\n"
      ]
    },
    {
      "cell_type": "code",
      "execution_count": 10,
      "metadata": {},
      "outputs": [
        {
          "name": "stdout",
          "output_type": "stream",
          "text": [
            "🖥️ GPU 使用情況:\n",
            "  已分配記憶體: 0.02 GB\n",
            "  快取記憶體: 0.04 GB\n",
            "  最大已分配: 0.03 GB\n",
            "✅ GPU 記憶體已清理\n"
          ]
        }
      ],
      "source": [
        "# GPU 使用情況監控\n",
        "if torch.cuda.is_available():\n",
        "    print(\"🖥️ GPU 使用情況:\")\n",
        "    print(f\"  已分配記憶體: {torch.cuda.memory_allocated() / 1024**3:.2f} GB\")\n",
        "    print(f\"  快取記憶體: {torch.cuda.memory_reserved() / 1024**3:.2f} GB\")\n",
        "    print(f\"  最大已分配: {torch.cuda.max_memory_allocated() / 1024**3:.2f} GB\")\n",
        "    \n",
        "    # 清理 GPU 記憶體\n",
        "    torch.cuda.empty_cache()\n",
        "    print(\"✅ GPU 記憶體已清理\")\n",
        "else:\n",
        "    print(\"ℹ️  使用 CPU 訓練，無 GPU 記憶體資訊\")\n"
      ]
    },
    {
      "cell_type": "code",
      "execution_count": null,
      "metadata": {},
      "outputs": [],
      "source": []
    }
  ],
  "metadata": {
    "kernelspec": {
      "display_name": "eai_lab1",
      "language": "python",
      "name": "python3"
    },
    "language_info": {
      "codemirror_mode": {
        "name": "ipython",
        "version": 3
      },
      "file_extension": ".py",
      "mimetype": "text/x-python",
      "name": "python",
      "nbconvert_exporter": "python",
      "pygments_lexer": "ipython3",
      "version": "3.9.23"
    }
  },
  "nbformat": 4,
  "nbformat_minor": 2
}
